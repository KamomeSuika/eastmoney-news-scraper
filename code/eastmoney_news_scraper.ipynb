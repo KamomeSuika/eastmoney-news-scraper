{
 "cells": [
  {
   "cell_type": "code",
   "execution_count": null,
   "id": "bcb47dae",
   "metadata": {},
   "outputs": [],
   "source": [
    "from selenium import webdriver\n",
    "from selenium.webdriver.common.by import By\n",
    "from selenium.webdriver.support.ui import WebDriverWait\n",
    "from selenium.webdriver.support import expected_conditions as EC\n",
    "import csv\n",
    "\n",
    "def eastmoney(keyword, writer):\n",
    "    chrome_options = webdriver.ChromeOptions()\n",
    "    chrome_options.add_argument('--headless')\n",
    "    browser = webdriver.Chrome(options=chrome_options)\n",
    "\n",
    "    url = f'https://so.eastmoney.com/news/s?keyword={keyword}'\n",
    "    browser.get(url)\n",
    "\n",
    "    try:\n",
    "        WebDriverWait(browser, 10).until(\n",
    "            EC.presence_of_all_elements_located((By.CSS_SELECTOR, \".news_item\"))\n",
    "        )\n",
    "        news_items = browser.find_elements(By.CSS_SELECTOR, \".news_item\")  \n",
    "        for item in news_items:\n",
    "            try:\n",
    "                title = item.find_element(By.CSS_SELECTOR, \".news_item_t a\").text\n",
    "                href = item.find_element(By.CSS_SELECTOR, \".news_item_t a\").get_attribute(\"href\")\n",
    "                date = item.find_element(By.CSS_SELECTOR, \".news_item_time\").text\n",
    "                writer.writerow([keyword, title, date, href])\n",
    "            except Exception:\n",
    "                continue\n",
    "    finally:\n",
    "        browser.quit()\n",
    "\n",
    "if __name__ == '__main__':\n",
    "    keywords = input(\"Please input keywords（split by ,）：\").split(',')\n",
    "    with open('results.csv', 'w', newline='', encoding='utf-8-sig') as f:\n",
    "        writer = csv.writer(f)\n",
    "        writer.writerow(['keyword', 'title', 'date', 'url'])\n",
    "        for keyword in keywords:\n",
    "            try:\n",
    "                eastmoney(keyword, writer)\n",
    "                print(keyword + \"success\")\n",
    "            except Exception as e:\n",
    "                print(keyword + \"fail\", e)"
   ]
  }
 ],
 "metadata": {
  "kernelspec": {
   "display_name": "base",
   "language": "python",
   "name": "python3"
  },
  "language_info": {
   "codemirror_mode": {
    "name": "ipython",
    "version": 3
   },
   "file_extension": ".py",
   "mimetype": "text/x-python",
   "name": "python",
   "nbconvert_exporter": "python",
   "pygments_lexer": "ipython3",
   "version": "3.12.7"
  }
 },
 "nbformat": 4,
 "nbformat_minor": 5
}
